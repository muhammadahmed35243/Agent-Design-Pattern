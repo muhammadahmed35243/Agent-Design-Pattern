{
 "cells": [
  {
   "cell_type": "code",
   "execution_count": 1,
   "id": "b4b515c8-a11e-40c9-a18d-12647ca950e6",
   "metadata": {},
   "outputs": [
    {
     "name": "stdout",
     "output_type": "stream",
     "text": [
      "✅ All libraries imported successfully!\n"
     ]
    }
   ],
   "source": [
    "import pandas as pd\n",
    "import numpy as np\n",
    "import matplotlib.pyplot as plt\n",
    "import seaborn as sns\n",
    "from sklearn.model_selection import train_test_split\n",
    "from sklearn.feature_extraction.text import TfidfVectorizer\n",
    "from sklearn.linear_model import LogisticRegression\n",
    "from sklearn.metrics import classification_report, confusion_matrix, accuracy_score\n",
    "from sklearn.pipeline import Pipeline\n",
    "import joblib\n",
    "import re\n",
    "\n",
    "print(\"✅ All libraries imported successfully!\")"
   ]
  },
  {
   "cell_type": "code",
   "execution_count": 2,
   "id": "910d7e56-283e-4171-bd82-4c80844d7707",
   "metadata": {},
   "outputs": [
    {
     "name": "stdout",
     "output_type": "stream",
     "text": [
      "❌ ParserError encountered: Error tokenizing data. C error: EOF inside string starting at row 2187\n",
      "🔁 Retrying with error-tolerant settings...\n",
      "📊 Dataset loaded: 2186 rows, 2 columns\n",
      "📋 Columns: ['user_input', 'agent']\n",
      "\n",
      "🔍 First 5 rows:\n",
      "                                user_input            agent\n",
      "0  How do I break this project into steps?    PlanningAgent\n",
      "1                Give me a structured plan    PlanningAgent\n",
      "2               Why didn't this code work?  ReflectionAgent\n",
      "3             I want your thoughts on this  ReflectionAgent\n",
      "4            What's the weather in Lahore?    ToolUserAgent\n",
      "\n",
      "📈 Class distribution:\n",
      "agent\n",
      "ReflectionAgent    1135\n",
      "PlanningAgent       579\n",
      "ToolUserAgent       472\n",
      "Name: count, dtype: int64\n"
     ]
    }
   ],
   "source": [
    "import pandas as pd\n",
    "\n",
    "file_path = '../data/agent_routing_dataset.csv'\n",
    "\n",
    "try:\n",
    "    # Try loading normally first\n",
    "    df = pd.read_csv(file_path)\n",
    "except pd.errors.ParserError as e:\n",
    "    print(f\"❌ ParserError encountered: {e}\")\n",
    "    print(\"🔁 Retrying with error-tolerant settings...\")\n",
    "    \n",
    "    # Retry with engine='python' and skip bad lines\n",
    "    df = pd.read_csv(file_path, engine='python', on_bad_lines='skip')\n",
    "\n",
    "# Dataset Info\n",
    "print(f\"📊 Dataset loaded: {df.shape[0]} rows, {df.shape[1]} columns\")\n",
    "print(f\"📋 Columns: {list(df.columns)}\")\n",
    "\n",
    "# Preview data\n",
    "print(\"\\n🔍 First 5 rows:\")\n",
    "print(df.head())\n",
    "\n",
    "# Check class distribution\n",
    "if 'agent' in df.columns:\n",
    "    print(f\"\\n📈 Class distribution:\")\n",
    "    print(df['agent'].value_counts())\n",
    "else:\n",
    "    print(\"⚠️ Column 'agent' not found in dataset.\")\n"
   ]
  },
  {
   "cell_type": "code",
   "execution_count": 3,
   "id": "df323ffd-ad47-4f2d-9b95-fc9a68586e3b",
   "metadata": {},
   "outputs": [
    {
     "name": "stdout",
     "output_type": "stream",
     "text": [
      "✅ Text preprocessing completed\n"
     ]
    }
   ],
   "source": [
    "def clean_text(text):\n",
    "    \"\"\"Simple text cleaning function\"\"\"\n",
    "    # Convert to lowercase\n",
    "    text = text.lower()\n",
    "    # Remove extra punctuation and spaces\n",
    "    text = re.sub(r'[^\\w\\s\\?]', ' ', text)\n",
    "    text = ' '.join(text.split())\n",
    "    return text\n",
    "\n",
    "# Apply cleaning\n",
    "df['clean_text'] = df['user_input'].apply(clean_text)\n",
    "\n",
    "print(\"✅ Text preprocessing completed\")\n"
   ]
  },
  {
   "cell_type": "code",
   "execution_count": 4,
   "id": "0c152e54-e6e6-4e4d-b6b7-da92b5573cce",
   "metadata": {},
   "outputs": [
    {
     "name": "stdout",
     "output_type": "stream",
     "text": [
      "🔄 Data split completed:\n",
      "   Training samples: 1748\n",
      "   Test samples: 438\n"
     ]
    }
   ],
   "source": [
    "# Features and target\n",
    "X = df['clean_text']\n",
    "y = df['agent']\n",
    "\n",
    "# Split into train and test sets\n",
    "X_train, X_test, y_train, y_test = train_test_split(\n",
    "    X, y, test_size=0.2, random_state=42, stratify=y\n",
    ")\n",
    "\n",
    "print(f\"🔄 Data split completed:\")\n",
    "print(f\"   Training samples: {len(X_train)}\")\n",
    "print(f\"   Test samples: {len(X_test)}\")\n"
   ]
  },
  {
   "cell_type": "code",
   "execution_count": 5,
   "id": "eb3f9df0-ae16-4169-9dc1-a1b0355e6626",
   "metadata": {},
   "outputs": [
    {
     "name": "stdout",
     "output_type": "stream",
     "text": [
      "🚀 Training model...\n",
      "✅ Model training completed!\n"
     ]
    }
   ],
   "source": [
    "model = Pipeline([\n",
    "    ('tfidf', TfidfVectorizer(\n",
    "        max_features=3000,      # Limit features for simplicity\n",
    "        ngram_range=(1, 2),     # Use 1-word and 2-word phrases\n",
    "        stop_words='english'    # Remove common words\n",
    "    )),\n",
    "    ('classifier', LogisticRegression(\n",
    "        random_state=42,\n",
    "        max_iter=1000\n",
    "    ))\n",
    "])\n",
    "\n",
    "print(\"🚀 Training model...\")\n",
    "\n",
    "# Train the model\n",
    "model.fit(X_train, y_train)\n",
    "\n",
    "print(\"✅ Model training completed!\")"
   ]
  },
  {
   "cell_type": "code",
   "execution_count": 6,
   "id": "160a050e-41e4-4ec7-b15b-49de7e76483e",
   "metadata": {},
   "outputs": [
    {
     "name": "stdout",
     "output_type": "stream",
     "text": [
      "🎯 Model Accuracy: 0.991\n",
      "\n",
      "📊 Detailed Results:\n",
      "                 precision    recall  f1-score   support\n",
      "\n",
      "  PlanningAgent       0.99      0.97      0.98       116\n",
      "ReflectionAgent       1.00      1.00      1.00       227\n",
      "  ToolUserAgent       0.98      1.00      0.99        95\n",
      "\n",
      "       accuracy                           0.99       438\n",
      "      macro avg       0.99      0.99      0.99       438\n",
      "   weighted avg       0.99      0.99      0.99       438\n",
      "\n"
     ]
    }
   ],
   "source": [
    "y_pred = model.predict(X_test)\n",
    "\n",
    "# Calculate accuracy\n",
    "accuracy = accuracy_score(y_test, y_pred)\n",
    "print(f\"🎯 Model Accuracy: {accuracy:.3f}\")\n",
    "\n",
    "# Detailed classification report\n",
    "print(\"\\n📊 Detailed Results:\")\n",
    "print(classification_report(y_test, y_pred))\n"
   ]
  },
  {
   "cell_type": "code",
   "execution_count": 7,
   "id": "d98682e7-c8f2-4a32-a2fb-183cb63b17d5",
   "metadata": {},
   "outputs": [
    {
     "data": {
      "image/png": "[encoded data removed]",
      "text/plain": [
       "<Figure size 800x600 with 2 Axes>"
      ]
     },
     "metadata": {},
     "output_type": "display_data"
    },
    {
     "data": {
      "image/png": "[encoded data removed]",
      "text/plain": [
       "<Figure size 1000x400 with 2 Axes>"
      ]
     },
     "metadata": {},
     "output_type": "display_data"
    }
   ],
   "source": [
    "cm = confusion_matrix(y_test, y_pred)\n",
    "plt.figure(figsize=(8, 6))\n",
    "sns.heatmap(cm, annot=True, fmt='d', cmap='Blues', \n",
    "            xticklabels=model.classes_, yticklabels=model.classes_)\n",
    "plt.title('Confusion Matrix')\n",
    "plt.xlabel('Predicted')\n",
    "plt.ylabel('Actual')\n",
    "plt.tight_layout()\n",
    "plt.show()\n",
    "\n",
    "# Show class distribution\n",
    "plt.figure(figsize=(10, 4))\n",
    "\n",
    "plt.subplot(1, 2, 1)\n",
    "df['agent'].value_counts().plot(kind='bar', color='skyblue')\n",
    "plt.title('Original Data Distribution')\n",
    "plt.xticks(rotation=45)\n",
    "\n",
    "plt.subplot(1, 2, 2)\n",
    "pd.Series(y_test).value_counts().plot(kind='bar', color='lightcoral')\n",
    "plt.title('Test Set Distribution')\n",
    "plt.xticks(rotation=45)\n",
    "\n",
    "plt.tight_layout()\n",
    "plt.show()\n"
   ]
  },
  {
   "cell_type": "code",
   "execution_count": 8,
   "id": "07e7c5d8-d871-45cb-9d09-6b4099ba57cd",
   "metadata": {},
   "outputs": [
    {
     "name": "stdout",
     "output_type": "stream",
     "text": [
      "\n",
      "🧪 Testing model with examples:\n",
      "============================================================\n",
      "\n",
      "Input: 'How should I organize my project schedule?'\n",
      "→ Predicted: PlanningAgent\n",
      "→ Confidence: 0.730\n",
      "→ Top predictions:\n",
      "   1. PlanningAgent: 0.730\n",
      "   2. ToolUserAgent: 0.175\n",
      "\n",
      "Input: 'What went wrong with my approach?'\n",
      "→ Predicted: ReflectionAgent\n",
      "→ Confidence: 0.740\n",
      "→ Top predictions:\n",
      "   1. ReflectionAgent: 0.740\n",
      "   2. ToolUserAgent: 0.132\n",
      "\n",
      "Input: 'Calculate 25 times 48'\n",
      "→ Predicted: ToolUserAgent\n",
      "→ Confidence: 0.904\n",
      "→ Top predictions:\n",
      "   1. ToolUserAgent: 0.904\n",
      "   2. ReflectionAgent: 0.050\n",
      "\n",
      "Input: 'I need help planning my day'\n",
      "→ Predicted: PlanningAgent\n",
      "→ Confidence: 0.766\n",
      "→ Top predictions:\n",
      "   1. PlanningAgent: 0.766\n",
      "   2. ReflectionAgent: 0.137\n",
      "\n",
      "Input: 'Can you analyze what happened?'\n",
      "→ Predicted: ReflectionAgent\n",
      "→ Confidence: 0.768\n",
      "→ Top predictions:\n",
      "   1. ReflectionAgent: 0.768\n",
      "   2. ToolUserAgent: 0.155\n",
      "\n",
      "Input: 'What's the weather today?'\n",
      "→ Predicted: ToolUserAgent\n",
      "→ Confidence: 0.872\n",
      "→ Top predictions:\n",
      "   1. ToolUserAgent: 0.872\n",
      "   2. ReflectionAgent: 0.066\n"
     ]
    }
   ],
   "source": [
    "def predict_agent(text):\n",
    "    \"\"\"Simple prediction function\"\"\"\n",
    "    prediction = model.predict([text])[0]\n",
    "    probabilities = model.predict_proba([text])[0]\n",
    "    \n",
    "    # Get all class probabilities\n",
    "    prob_dict = {}\n",
    "    for i, class_name in enumerate(model.classes_):\n",
    "        prob_dict[class_name] = probabilities[i]\n",
    "    \n",
    "    confidence = probabilities.max()\n",
    "    \n",
    "    return prediction, confidence, prob_dict\n",
    "\n",
    "# Test examples\n",
    "test_examples = [\n",
    "    \"How should I organize my project schedule?\",\n",
    "    \"What went wrong with my approach?\", \n",
    "    \"Calculate 25 times 48\",\n",
    "    \"I need help planning my day\",\n",
    "    \"Can you analyze what happened?\",\n",
    "    \"What's the weather today?\"\n",
    "]\n",
    "\n",
    "print(\"\\n🧪 Testing model with examples:\")\n",
    "print(\"=\" * 60)\n",
    "\n",
    "for example in test_examples:\n",
    "    agent, confidence, all_probs = predict_agent(example)\n",
    "    \n",
    "    print(f\"\\nInput: '{example}'\")\n",
    "    print(f\"→ Predicted: {agent}\")\n",
    "    print(f\"→ Confidence: {confidence:.3f}\")\n",
    "    \n",
    "    # Show top 2 most likely agents\n",
    "    sorted_probs = sorted(all_probs.items(), key=lambda x: x[1], reverse=True)\n",
    "    print(f\"→ Top predictions:\")\n",
    "    for i, (class_name, prob) in enumerate(sorted_probs[:2]):\n",
    "        print(f\"   {i+1}. {class_name}: {prob:.3f}\")\n"
   ]
  },
  {
   "cell_type": "code",
   "execution_count": 9,
   "id": "b916ff63-5f21-4374-87e3-49479805ce5b",
   "metadata": {},
   "outputs": [
    {
     "name": "stdout",
     "output_type": "stream",
     "text": [
      "\n",
      "💾 Model saved as '../model/simple_agent_classifier.pkl'\n"
     ]
    }
   ],
   "source": [
    "model_filename = '../model/simple_agent_classifier.pkl'\n",
    "joblib.dump(model, model_filename)\n",
    "\n",
    "print(f\"\\n💾 Model saved as '{model_filename}'\")"
   ]
  },
  {
   "cell_type": "code",
   "execution_count": 10,
   "id": "02049562-f50c-42dc-ba65-34aadb3a0aca",
   "metadata": {},
   "outputs": [
    {
     "name": "stdout",
     "output_type": "stream",
     "text": [
      "\n",
      "🔄 Testing saved model:\n",
      "Input: 'Help me create a project timeline'\n",
      "Result: PlanningAgent (confidence: 0.742)\n"
     ]
    }
   ],
   "source": [
    "def load_model_and_predict(text, model_file='../model/simple_agent_classifier.pkl'):\n",
    "    \"\"\"Load saved model and make prediction\"\"\"\n",
    "    try:\n",
    "        loaded_model = joblib.load(model_file)\n",
    "        prediction = loaded_model.predict([text])[0]\n",
    "        confidence = loaded_model.predict_proba([text])[0].max()\n",
    "        return prediction, confidence\n",
    "    except FileNotFoundError:\n",
    "        return \"Error: Model file not found\", 0.0\n",
    "\n",
    "# Test loading the saved model\n",
    "test_text = \"Help me create a project timeline\"\n",
    "predicted_agent, conf = load_model_and_predict(test_text)\n",
    "\n",
    "print(f\"\\n🔄 Testing saved model:\")\n",
    "print(f\"Input: '{test_text}'\")\n",
    "print(f\"Result: {predicted_agent} (confidence: {conf:.3f})\")\n"
   ]
  },
  {
   "cell_type": "code",
   "execution_count": 11,
   "id": "91c9eb3e-d952-49bf-874d-788c42d9e6cd",
   "metadata": {},
   "outputs": [
    {
     "name": "stdout",
     "output_type": "stream",
     "text": [
      "\n",
      "🏭 Production-ready classifier example:\n",
      "Single prediction: {'agent': 'PlanningAgent', 'confidence': np.float64(0.8433909149655374), 'reliable': np.True_}\n",
      "\n",
      "Batch predictions:\n",
      "  'Help me organize this...' → PlanningAgent (0.911)\n",
      "  'What do you think about this?...' → ReflectionAgent (0.876)\n",
      "  'Calculate the sum of 25 and 75...' → ToolUserAgent (0.879)\n"
     ]
    }
   ],
   "source": [
    "class SimpleAgentClassifier:\n",
    "    \"\"\"Easy-to-use agent classifier\"\"\"\n",
    "    \n",
    "    def __init__(self, model_path='../model/simple_agent_classifier.pkl'):\n",
    "        self.model = joblib.load(model_path)\n",
    "        \n",
    "    def classify(self, text):\n",
    "        \"\"\"Classify a single text input\"\"\"\n",
    "        prediction = self.model.predict([text])[0]\n",
    "        probabilities = self.model.predict_proba([text])[0]\n",
    "        confidence = probabilities.max()\n",
    "        \n",
    "        return {\n",
    "            'agent': prediction,\n",
    "            'confidence': confidence,\n",
    "            'reliable': confidence > 0.7\n",
    "        }\n",
    "    \n",
    "    def classify_batch(self, texts):\n",
    "        \"\"\"Classify multiple texts at once\"\"\"\n",
    "        predictions = self.model.predict(texts)\n",
    "        probabilities = self.model.predict_proba(texts)\n",
    "        \n",
    "        results = []\n",
    "        for i, text in enumerate(texts):\n",
    "            results.append({\n",
    "                'text': text,\n",
    "                'agent': predictions[i],\n",
    "                'confidence': probabilities[i].max(),\n",
    "                'reliable': probabilities[i].max() > 0.7\n",
    "            })\n",
    "        \n",
    "        return results\n",
    "\n",
    "# Example usage of the production class\n",
    "print(\"\\n🏭 Production-ready classifier example:\")\n",
    "\n",
    "try:\n",
    "    classifier = SimpleAgentClassifier()\n",
    "    \n",
    "    # Single prediction\n",
    "    result = classifier.classify(\"How do I plan my workflow?\")\n",
    "    print(f\"Single prediction: {result}\")\n",
    "    \n",
    "    # Batch prediction\n",
    "    batch_texts = [\n",
    "        \"Help me organize this\",\n",
    "        \"What do you think about this?\",\n",
    "        \"Calculate the sum of 25 and 75\"\n",
    "    ]\n",
    "    \n",
    "    batch_results = classifier.classify_batch(batch_texts)\n",
    "    print(f\"\\nBatch predictions:\")\n",
    "    for result in batch_results:\n",
    "        print(f\"  '{result['text'][:30]}...' → {result['agent']} ({result['confidence']:.3f})\")\n",
    "\n",
    "except FileNotFoundError:\n",
    "    print(\"Model file not found - make sure to run the training section first!\")\n"
   ]
  },
  {
   "cell_type": "code",
   "execution_count": 12,
   "id": "765c1ba7-3183-4730-a7cc-8dc61999f064",
   "metadata": {},
   "outputs": [
    {
     "name": "stdout",
     "output_type": "stream",
     "text": [
      "\n",
      "============================================================\n",
      "🎉 TRAINING COMPLETED!\n",
      "============================================================\n",
      "📊 Final Accuracy: 0.991\n",
      "💾 Model saved as: ../model/simple_agent_classifier.pkl\n",
      "🔧 Model type: Logistic Regression + TF-IDF\n",
      "📝 Features: 3000 TF-IDF features\n",
      "\n",
      "📋 Quick Usage:\n",
      "   from joblib import load\n",
      "   model = load('../model/simple_agent_classifier.pkl')\n",
      "   prediction = model.predict(['your text here'])[0]\n",
      "\n",
      "✅ Ready for production use!\n",
      "============================================================\n"
     ]
    }
   ],
   "source": [
    "print(\"\\n\" + \"=\"*60)\n",
    "print(\"🎉 TRAINING COMPLETED!\")\n",
    "print(\"=\"*60)\n",
    "print(f\"📊 Final Accuracy: {accuracy:.3f}\")\n",
    "print(f\"💾 Model saved as: {model_filename}\")\n",
    "print(f\"🔧 Model type: Logistic Regression + TF-IDF\")\n",
    "print(f\"📝 Features: {model.named_steps['tfidf'].max_features} TF-IDF features\")\n",
    "\n",
    "print(f\"\\n📋 Quick Usage:\")\n",
    "print(f\"   from joblib import load\")\n",
    "print(f\"   model = load('{model_filename}')\")\n",
    "print(f\"   prediction = model.predict(['your text here'])[0]\")\n",
    "\n",
    "print(f\"\\n✅ Ready for production use!\")\n",
    "print(\"=\"*60)"
   ]
  },
  {
   "cell_type": "code",
   "execution_count": 13,
   "id": "b71cbaef-4539-4991-8313-4a403beff518",
   "metadata": {},
   "outputs": [
    {
     "name": "stdout",
     "output_type": "stream",
     "text": [
      "\n",
      "🧪 Quick Accuracy Test:\n",
      "✅ 'How do I organize my schedule?' → PlanningAgent (expected: PlanningAgent)\n",
      "✅ 'What went wrong here?' → ReflectionAgent (expected: ReflectionAgent)\n",
      "✅ 'Calculate 5 plus 5' → ToolUserAgent (expected: ToolUserAgent)\n",
      "\n",
      "📊 Quick Test Accuracy: 3/3 = 1.000\n",
      "\n",
      "🎯 All done! Your simple agent classifier is ready to use.\n"
     ]
    }
   ],
   "source": [
    "def quick_accuracy_test():\n",
    "    \"\"\"Quick test to verify model is working correctly\"\"\"\n",
    "    \n",
    "    # Test cases that should be easy to classify\n",
    "    easy_tests = [\n",
    "        (\"How do I organize my schedule?\", \"PlanningAgent\"),\n",
    "        (\"What went wrong here?\", \"ReflectionAgent\"), \n",
    "        (\"Calculate 5 plus 5\", \"ToolUserAgent\")\n",
    "    ]\n",
    "    \n",
    "    correct = 0\n",
    "    total = len(easy_tests)\n",
    "    \n",
    "    print(f\"\\n🧪 Quick Accuracy Test:\")\n",
    "    for text, expected in easy_tests:\n",
    "        predicted, conf = load_model_and_predict(text)\n",
    "        is_correct = predicted == expected\n",
    "        correct += is_correct\n",
    "        \n",
    "        status = \"✅\" if is_correct else \"❌\"\n",
    "        print(f\"{status} '{text}' → {predicted} (expected: {expected})\")\n",
    "    \n",
    "    print(f\"\\n📊 Quick Test Accuracy: {correct}/{total} = {correct/total:.3f}\")\n",
    "\n",
    "quick_accuracy_test()\n",
    "\n",
    "print(f\"\\n🎯 All done! Your simple agent classifier is ready to use.\")\n",
    "\n"
   ]
  }
 ],
 "metadata": {
  "kernelspec": {
   "display_name": "Python 3 (ipykernel)",
   "language": "python",
   "name": "python3"
  },
  "language_info": {
   "codemirror_mode": {
    "name": "ipython",
    "version": 3
   },
   "file_extension": ".py",
   "mimetype": "text/x-python",
   "name": "python",
   "nbconvert_exporter": "python",
   "pygments_lexer": "ipython3",
   "version": "3.11.9"
  }
 },
 "nbformat": 4,
 "nbformat_minor": 5
}
